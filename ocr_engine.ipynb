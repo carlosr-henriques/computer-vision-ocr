{
 "cells": [
  {
   "cell_type": "code",
   "execution_count": null,
   "id": "fffbfff5",
   "metadata": {
    "ExecuteTime": {
     "end_time": "2023-05-02T02:23:37.186605Z",
     "start_time": "2023-05-02T02:23:25.347632Z"
    }
   },
   "outputs": [],
   "source": [
    "!pip install PIL\n",
    "!pip install ipywidgets\n",
    "!pip install fileupload\n",
    "!pip install pytesseract\n",
    "!pip install cv2\n",
    "!pip install numpy"
   ]
  },
  {
   "cell_type": "code",
   "execution_count": 1,
   "id": "4f316577",
   "metadata": {
    "ExecuteTime": {
     "end_time": "2023-05-02T04:17:22.383699Z",
     "start_time": "2023-05-02T04:17:21.456151Z"
    }
   },
   "outputs": [
    {
     "name": "stdout",
     "output_type": "stream",
     "text": [
      "List of available languages in \"C:\\Users\\Wors\\Tesseract-OCR/tessdata/\" (4):\n",
      "eng\n",
      "equ\n",
      "osd\n",
      "por\n"
     ]
    }
   ],
   "source": [
    "from IPython.display import display\n",
    "from IPython.display import clear_output\n",
    "import PIL.Image as Image\n",
    "from io import StringIO\n",
    "from cv2 import cvtColor\n",
    "from pytesseract import TesseractError\n",
    "from pytesseract import Output\n",
    "import numpy as np\n",
    "import ipywidgets as widgets\n",
    "import os\n",
    "import pytesseract\n",
    "import cv2\n",
    "%matplotlib inline\n",
    "%config InlineBackend.figure_format = 'retina'\n",
    "\n",
    "!tesseract --list-langs\n",
    "\n",
    "pytesseract.pytesseract.tesseract_cmd = r'C:\\Users\\Wors\\Tesseract-OCR\\tesseract.exe'"
   ]
  },
  {
   "cell_type": "code",
   "execution_count": 2,
   "id": "bf293988",
   "metadata": {
    "ExecuteTime": {
     "end_time": "2023-05-02T04:17:23.450029Z",
     "start_time": "2023-05-02T04:17:23.440950Z"
    }
   },
   "outputs": [
    {
     "data": {
      "application/vnd.jupyter.widget-view+json": {
       "model_id": "c9b85b3dd8044623a2f98bfb0c0f7439",
       "version_major": 2,
       "version_minor": 0
      },
      "text/plain": [
       "FileUpload(value={}, accept='image/*', description='Upload')"
      ]
     },
     "metadata": {},
     "output_type": "display_data"
    }
   ],
   "source": [
    "uploader = widgets.FileUpload(\n",
    "    accept='image/*',\n",
    "    multiple=False\n",
    ")\n",
    "display(uploader)"
   ]
  },
  {
   "cell_type": "code",
   "execution_count": 3,
   "id": "3873fe30",
   "metadata": {
    "ExecuteTime": {
     "end_time": "2023-05-02T04:17:32.795542Z",
     "start_time": "2023-05-02T04:17:32.793033Z"
    }
   },
   "outputs": [],
   "source": [
    "filename = dict(uploader.value)\n",
    "filename = str(list(filename.keys())[0])\n",
    "filename = filename.replace(\"'\",\" \")\n",
    "\n",
    "image_path = \"C:\\\\Users\\\\Wors\\\\Documents\\\\Reconhecimento de texto com OCR\\\\text-recognize-main\\\\Imagens\\\\\" + filename"
   ]
  },
  {
   "cell_type": "code",
   "execution_count": 4,
   "id": "8d2a7848",
   "metadata": {
    "ExecuteTime": {
     "end_time": "2023-05-02T04:17:34.048934Z",
     "start_time": "2023-05-02T04:17:33.008216Z"
    }
   },
   "outputs": [
    {
     "name": "stdout",
     "output_type": "stream",
     "text": [
      "Page number: 0\n",
      "Orientation in degrees: 270\n",
      "Rotate: 90\n",
      "Orientation confidence: 184.00\n",
      "Script: Latin\n",
      "Script confidence: 2.00\n",
      "\n",
      "Page number: 0\n",
      "Orientation in degrees: 270\n",
      "Rotate: 90\n",
      "Orientation confidence: 184.00\n",
      "Script: Latin\n",
      "Script confidence: 2.00\n",
      "\n",
      "Undersampling\n",
      "\n",
      "É uma técnica que consiste em manter todos os dados da classe com menor frequência e\n",
      "diminuir a quantidade dos que estão na classe de maior frequência, fazendo com que as\n",
      "observações no conjunto possuam dados com a variável alvo equilibrada.\n",
      "\n"
     ]
    }
   ],
   "source": [
    "img = cv2.imread(image_path)\n",
    "img_rgb = cv2.cvtColor(img, cv2.COLOR_BGR2RGB)\n",
    "try:\n",
    "    print(pytesseract.image_to_osd(img_rgb, lang='por'))\n",
    "    print(pytesseract.image_to_osd(img_rgb, lang='por'))\n",
    "    \n",
    "    \n",
    "except TesseractError as e:\n",
    "    print('Esse erro indica que o Tesseract não conseguiu reconhecer o texto na imagem que foi passada para ele. Ele pode estar ocorrendo por diferentes motivos, como a qualidade da imagem, o idioma do texto não ser suportado ou o Tesseract não ter conseguido identificar a orientação correta da imagem.  A mensagem de \"Too few characters. Skipping this page\" indica que o Tesseract identificou muito poucos caracteres na imagem, o que pode ser um indicativo de problemas com a qualidade da imagem. A mensagem de \"Invalid resolution 0 dpi\" indica que o Tesseract não conseguiu identificar a resolução da imagem e, por isso, usou um valor padrão de 70 dpi.\\n')\n",
    "print(pytesseract.image_to_string(img_rgb, lang='por'))"
   ]
  },
  {
   "cell_type": "code",
   "execution_count": null,
   "id": "14abcc89",
   "metadata": {},
   "outputs": [],
   "source": []
  }
 ],
 "metadata": {
  "hide_input": false,
  "kernelspec": {
   "display_name": "Python 3 (ipykernel)",
   "language": "python",
   "name": "python3"
  },
  "language_info": {
   "codemirror_mode": {
    "name": "ipython",
    "version": 3
   },
   "file_extension": ".py",
   "mimetype": "text/x-python",
   "name": "python",
   "nbconvert_exporter": "python",
   "pygments_lexer": "ipython3",
   "version": "3.9.12"
  },
  "toc": {
   "base_numbering": 1,
   "nav_menu": {},
   "number_sections": true,
   "sideBar": true,
   "skip_h1_title": false,
   "title_cell": "Table of Contents",
   "title_sidebar": "Contents",
   "toc_cell": false,
   "toc_position": {},
   "toc_section_display": true,
   "toc_window_display": false
  },
  "varInspector": {
   "cols": {
    "lenName": 16,
    "lenType": 16,
    "lenVar": 40
   },
   "kernels_config": {
    "python": {
     "delete_cmd_postfix": "",
     "delete_cmd_prefix": "del ",
     "library": "var_list.py",
     "varRefreshCmd": "print(var_dic_list())"
    },
    "r": {
     "delete_cmd_postfix": ") ",
     "delete_cmd_prefix": "rm(",
     "library": "var_list.r",
     "varRefreshCmd": "cat(var_dic_list()) "
    }
   },
   "types_to_exclude": [
    "module",
    "function",
    "builtin_function_or_method",
    "instance",
    "_Feature"
   ],
   "window_display": false
  }
 },
 "nbformat": 4,
 "nbformat_minor": 5
}
